{
  "cells": [
    {
      "cell_type": "markdown",
      "metadata": {},
      "source": [
        "\n# AQUACROP irrigation synthetic dataset \nThis example demonstrates how to load and visualize datasets related to\nevapotranspiration (ETa) and land cover classification (CLC) for a synthetic dataset generated using AQUACROP.\nThe datasets are loaded using Pooch for remote file management.\nTwo visualizations are created: one showing land cover classification (CLC) and\nanother displaying the time series of evapotranspiration (ETa).\n"
      ]
    },
    {
      "cell_type": "code",
      "execution_count": null,
      "metadata": {
        "collapsed": false
      },
      "outputs": [],
      "source": [
        "import pooch\nimport xarray as xr \nimport matplotlib.pyplot as plt \nfrom matplotlib.animation import FuncAnimation\nfrom IPython.display import HTML"
      ]
    },
    {
      "cell_type": "markdown",
      "metadata": {},
      "source": [
        "Step 1: Download datasets using Pooch\nPooch is used to manage the dataset downloads from the specified GitHub repository.\n\n"
      ]
    },
    {
      "cell_type": "code",
      "execution_count": null,
      "metadata": {
        "collapsed": false
      },
      "outputs": [],
      "source": [
        "pooch_Majadas = pooch.create(\n    path=pooch.os_cache(\"AQUACROP_project\"),\n    base_url=\"https://github.com/BenjMy/test_AQUACROP_centum_dataset/raw/refs/heads/main/\",\n    registry={\n        \"ds_analysis_EO_0.netcdf\": None,\n    },\n)\n\nAQUACROP_ET_filename = pooch_Majadas.fetch('ds_analysis_EO_0.netcdf')\nAQUACROP_ds = xr.load_dataset(AQUACROP_ET_filename)\n\n# AQUACROP_ds = xr.open_dataset(f'../data/synthetic/ds_analysis_EO_0.netcdf')\n\nimport numpy as np\n_, index = np.unique(AQUACROP_ds['time'], return_index=True)\nAQUACROP_ds = AQUACROP_ds.isel(time=index)\nAQUACROP_ds['ACT. ETRA'].plot.imshow(x=\"x\", y=\"y\", \n                                        col=\"time\", \n                                        col_wrap=4,\n                                        )"
      ]
    }
  ],
  "metadata": {
    "kernelspec": {
      "display_name": "Python 3",
      "language": "python",
      "name": "python3"
    },
    "language_info": {
      "codemirror_mode": {
        "name": "ipython",
        "version": 3
      },
      "file_extension": ".py",
      "mimetype": "text/x-python",
      "name": "python",
      "nbconvert_exporter": "python",
      "pygments_lexer": "ipython3",
      "version": "3.10.18"
    }
  },
  "nbformat": 4,
  "nbformat_minor": 0
}
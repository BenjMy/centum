{
  "cells": [
    {
      "cell_type": "markdown",
      "metadata": {},
      "source": [
        "\n# Tree-Grass ecosystem (Spain, Majadas de Tietar)\nThis example demonstrates how to load and visualize datasets related to\nevapotranspiration (ETa) and land cover classification (CLC) over the Majadas\nregion in Spain. The datasets are loaded using Pooch for remote file management.\nTwo visualizations are created: one showing land cover classification (CLC) and\nanother displaying the time series of evapotranspiration (ETa).\n"
      ]
    },
    {
      "cell_type": "code",
      "execution_count": null,
      "metadata": {
        "collapsed": false
      },
      "outputs": [],
      "source": [
        "import pooch\nimport xarray as xr \nimport matplotlib.pyplot as plt \nfrom matplotlib.animation import FuncAnimation\nfrom IPython.display import HTML\nfrom pathlib import Path\nfrom centum.delineation import ETAnalysis\nimport numpy as np\nfrom centum import plotting as pltC\nfrom centum import utils \nimport geopandas as gpd\n\n\nrootPathData= Path('/home/ben/Nextcloud/BenCSIC/Codes/tech4agro/test_Majadas_centum_dataset/')"
      ]
    },
    {
      "cell_type": "markdown",
      "metadata": {},
      "source": [
        "Step 1: Download datasets using Pooch\nPooch is used to manage the dataset downloads from the specified GitHub repository.\n\n"
      ]
    },
    {
      "cell_type": "code",
      "execution_count": null,
      "metadata": {
        "collapsed": false
      },
      "outputs": [],
      "source": [
        "# pooch_Majadas = pooch.create(\n#     path=pooch.os_cache(\"Majadas_project\"),\n#     base_url=\"https://github.com/BenjMy/test_Majadas_centum_dataset/raw/refs/heads/main/\",\n#     registry={\n#         \"20200403_LEVEL2_ECMWF_TPday.tif\": None,\n#         \"ETa_Majadas.netcdf\": None,\n#         \"ETp_Majadas.netcdf\": None,\n#         \"CLCover_Majadas.netcdf\": None,\n#     },\n# )\n\n# pooch_Majadas = pooch.create(\n#     path=pooch.os_cache(\"Majadas_project\"),\n#     base_url=\"https://github.com/BenjMy/test_Majadas_centum_dataset/raw/refs/heads/main/\",\n#     registry={\n#         \"ETa_Majadas.netcdf\": None,\n#         \"ETp_Majadas.netcdf\": None,\n#         \"CLC_Majadas_clipped.shp\": None,\n#         \"CLC_Majadas_clipped.shx\": None,\n#         \"CLC_Majadas_clipped.dbf\": None,\n#     },\n# )\n\n# Majadas_ETa_dataset = pooch_Majadas.fetch('ETa_Majadas.netcdf')\n# Majadas_ETp_dataset = pooch_Majadas.fetch('ETp_Majadas.netcdf')\n# Majadas_CLC_dataset = pooch_Majadas.fetch('CLCover_Majadas.netcdf')\n\nprint('loading datasets')\n\nMajadas_ETa_dataset = rootPathData/'ETa_Majadas_H2Bassin.netcdf'\nMajadas_ETp_dataset = rootPathData/'ETp_Majadas_H2Bassin.netcdf'\nMajadas_CLC_dataset = rootPathData/'CLCover_Majadas.netcdf'\nMajadas_rain_dataset = rootPathData/'RAIN_Majadas_H2Bassin.netcdf'\n\nMajadas_CLC_gdf = gpd.read_file(rootPathData/'BassinH2_Majadas_corrected.shp')\n\nETa_ds = xr.load_dataset(Majadas_ETa_dataset)\nETa_ds = ETa_ds.rename({\"__xarray_dataarray_variable__\": \"ETa\"})  # Rename the main variable to 'ETa'\n\nETp_ds = xr.load_dataset(Majadas_ETp_dataset)\nETp_ds = ETp_ds.rename({\"__xarray_dataarray_variable__\": \"ETp\"})  # Rename the main variable to 'ETa'\n\nCLC = xr.load_dataset(Majadas_CLC_dataset)  # Load the CLC dataset"
      ]
    },
    {
      "cell_type": "markdown",
      "metadata": {},
      "source": [
        "Step 2: Corine Land Cover Visualization\n\n"
      ]
    },
    {
      "cell_type": "code",
      "execution_count": null,
      "metadata": {
        "collapsed": false
      },
      "outputs": [],
      "source": [
        "x_coords_CLC = CLC['Code_CLC'].coords['x'].values\ny_coords_CLC = CLC['Code_CLC'].coords['y'].values\n\nfig, ax = plt.subplots()\nim1 = ax.imshow(CLC['Code_CLC'].values, cmap='viridis', aspect='auto', origin='upper',\n                    extent=[x_coords_CLC.min(), x_coords_CLC.max(), y_coords_CLC.min(), y_coords_CLC.max()])\nax.set_title('CLC Code') \nax.set_xlabel('X Coordinate') \nax.set_ylabel('Y Coordinate') \nax.axis('square')  #\n\nplt.tight_layout()\nplt.show()"
      ]
    },
    {
      "cell_type": "markdown",
      "metadata": {},
      "source": [
        "Step 3: Create an animated visualization of the ETa time series\n\n"
      ]
    },
    {
      "cell_type": "code",
      "execution_count": null,
      "metadata": {
        "collapsed": false
      },
      "outputs": [],
      "source": [
        "ETa_ds_selec = ETa_ds.isel(time=slice(0, 25))\nx_coords = ETa_ds_selec['ETa'].coords['x'].values\ny_coords = ETa_ds_selec['ETa'].coords['y'].values\n\nfig, ax = plt.subplots(figsize=(8, 6))\nim = ax.imshow(ETa_ds_selec['ETa'].isel(band=0).isel(time=0).values, cmap='coolwarm', origin='upper',\n               extent=[x_coords.min(), x_coords.max(), y_coords.min(), y_coords.max()])\nax.set_title('ETa Time Series')  # Title for the time series plot\nax.set_xlabel('X Coordinate')  # Label for the X axis\nax.set_ylabel('Y Coordinate')  # Label for the Y axis\nax.axis('square')  # Make the axis square for proper aspect ratio\n\ncbar = fig.colorbar(im, ax=ax, orientation='vertical', extend='both', label='ETa')\n\ndef update(frame):\n    im.set_data(ETa_ds_selec['ETa'].isel(band=0).isel(time=frame).values)\n    ax.set_title(f'ETa Time Step: {frame}')\n    return [im]\n\nani = FuncAnimation(fig, update, frames=len(ETa_ds_selec['time']), interval=200, blit=True)\nHTML(ani.to_jshtml())  # Show the animation in the notebook"
      ]
    },
    {
      "cell_type": "code",
      "execution_count": null,
      "metadata": {
        "collapsed": false
      },
      "outputs": [],
      "source": [
        "print('running delineation')\nthreshold_local = 0.25\nthreshold_regional = 0.25\ntime_window = 1\n\nirr_analysis_usingET = ETAnalysis()\n\n\nET_analysis_ds = ETa_ds.isel(band=0)\nET_analysis_ds = ET_analysis_ds.sortby(\"time\")\nET_analysis_ds['ETp'] = ETp_ds['ETp'].isel(band=0)\n\nwindow_size_x = (ET_analysis_ds.x.max() - ET_analysis_ds.x.min())/10\n\n# Run the irrigation delineation\ndecision_ds, event_type = irr_analysis_usingET.irrigation_delineation(\n                                                                        ET_analysis_ds,\n                                                                        threshold_local=threshold_local,\n                                                                        threshold_regional=threshold_regional,\n                                                                        time_window=time_window,\n                                                                        window_size_x=window_size_x,\n                                                                    )\n\n# event_type"
      ]
    },
    {
      "cell_type": "code",
      "execution_count": null,
      "metadata": {
        "collapsed": false
      },
      "outputs": [],
      "source": [
        "print('plotting mask')\n\nfrom pyproj import CRS\ncrs = CRS.from_wkt('PROJCS[\"unknown\",GEOGCS[\"WGS 84\",DATUM[\"World Geodetic System 1984\",SPHEROID[\"WGS 84\",6378137,298.257223563]],PRIMEM[\"Greenwich\",0],UNIT[\"degree\",0.0174532925199433,AUTHORITY[\"EPSG\",\"9122\"]]],PROJECTION[\"Azimuthal_Equidistant\"],PARAMETER[\"latitude_of_center\",53],PARAMETER[\"longitude_of_center\",24],PARAMETER[\"false_easting\",5837287.81977],PARAMETER[\"false_northing\",2121415.69617],UNIT[\"metre\",1,AUTHORITY[\"EPSG\",\"9001\"]],AXIS[\"Easting\",EAST],AXIS[\"Northing\",NORTH]]')\n\nCLC = CLC.rio.write_crs(crs.to_wkt())\nETa_ds = ETa_ds.rio.write_crs(crs.to_wkt())\nCLC_reproj = CLC.rio.reproject_match(ETa_ds)\n\nMajadas_CLC_gdf_reproj = Majadas_CLC_gdf.to_crs(crs.to_wkt())\n\n\nfig, ax = plt.subplots(1, 1, figsize=(10, 5))\nCLC_reproj['Code_18'].plot.imshow(ax=ax, cmap='viridis')\nax.set_title(\"Majadas de Tietar Corine Land Cover\")\nplt.show()\n\n\nmask_CLC_IrrLand = CLC_reproj['Code_CLC']==212\nmask_CLC_Agroforestry = CLC_reproj['Code_CLC']==244\n\nnp.sum(mask_CLC_IrrLand)\nnp.sum(mask_CLC_Agroforestry)\n\nclc_codes = utils.get_CLC_code_def()\n\n\nfig, ax = plt.subplots(1, 1, figsize=(10, 5))\nmask_CLC_IrrLand.plot.imshow(ax=ax, cmap='viridis')\nax.set_title(\"Majadas de Tietar Corine Land Cover\")\nplt.show()\n\nfig, ax = plt.subplots(1, 1, figsize=(10, 5))\nmask_CLC_Agroforestry.plot.imshow(ax=ax, cmap='viridis')\nax.set_title(\"Majadas de Tietar Corine Land Cover\")\nplt.show()"
      ]
    },
    {
      "cell_type": "code",
      "execution_count": null,
      "metadata": {
        "collapsed": false
      },
      "outputs": [],
      "source": [
        "print('plotting time serie')\n\nstart_date = \"2023-08-01\"\nend_date = \"2023-08-15\"  # Changed to cover the entire summer\n    \n\n# decision_ds_filtered = decision_ds.sel(time=slice(start_date,end_date))\ndecision_ds_filtered = decision_ds\n\n\ndecision_ds_IrrLand = (\n    decision_ds_filtered\n    .where(mask_CLC_IrrLand)\n    .mean(['x', 'y'])\n)\n\n\ndecision_ds_Agroforestry = (\n    decision_ds_filtered\n    .where(mask_CLC_Agroforestry)\n    .mean(['x', 'y'])\n)\n\ndecision_ds_IrrLand.data_vars\n\nfig, axs = plt.subplots(2,1)\n\ndecision_ds_IrrLand['ETa'].plot(x='time',label='ETa',ax=axs[0])\ndecision_ds_IrrLand['ratio_ETap_regional_spatial_avg_time_avg'].plot(x='time',\n                                                                     label='ratio_ETap_regional',\n                                                                     ax=axs[1])\ndecision_ds_IrrLand['ratio_ETap_local'].plot(x='time',\n                                            label='ratio_ETap_local',\n                                            ax=axs[1])\n\n# decision_ds_IrrLand['condRain'].plot(x='time',\n#                                         label='condRain',\n#                                         ax=axs[1])\nplt.legend()"
      ]
    },
    {
      "cell_type": "code",
      "execution_count": null,
      "metadata": {
        "collapsed": false
      },
      "outputs": [],
      "source": [
        "def plot_decision_schedule(event_type,time_steps,fig,axes):\n        \n    axes = axes.flatten()  # Flatten to easily iterate over\n    cmap = plt.cm.colors.ListedColormap([\n                                         # 'white',\n                                         'green', \n                                         'red'\n                                         ])\n    x_values = event_type['x'].values\n    y_values = event_type['y'].values\n    extent = [x_values.min(), x_values.max(), y_values.min(), y_values.max()]\n    for i, ax in enumerate(axes):\n        if i < time_steps:  # Only plot if there is corresponding data\n            data = event_type.isel(time=i).values  # or event_type.sel(time=...) if using labels\n            img = ax.imshow(data, \n                            cmap=cmap, \n                            vmin=0, \n                            vmax=1, \n                            extent=extent,\n                            origin='lower'\n                            )\n            ax.set_xlabel('x')  # Label for the x-axis\n            ax.set_ylabel('y')  # Label for the y-axis\n        else:\n            ax.axis('off')  # Turn off empty subplots\n    \n    # Adjust layout to prevent overlap\n    plt.tight_layout()\n    cbar = fig.colorbar(plt.cm.ScalarMappable(cmap=cmap, \n                                              norm=plt.Normalize(vmin=0, \n                                                                 vmax=1)\n                                              ), \n                        ax=axes, \n                        orientation='horizontal', \n                        fraction=0.02, pad=0.04)  # Adjust placement\n    cbar.set_ticks([0, 1])\n    cbar.set_ticklabels(['True', 'False'])\n    \n    pass"
      ]
    },
    {
      "cell_type": "code",
      "execution_count": null,
      "metadata": {
        "collapsed": false
      },
      "outputs": [],
      "source": [
        "print('plotting decision rain')\n\ndecision_ds_filtered = decision_ds.sel(time=slice(start_date,end_date))\ntime_steps = decision_ds_filtered.time.size\nncols = 4\nnrows = int(np.ceil(time_steps / ncols))  # Number of rows needed\n\nfig, axes = plt.subplots(nrows=nrows, ncols=ncols, \n                         figsize=(15, nrows * 3)\n                         )\nplot_decision_schedule(decision_ds_filtered['condRain'],\n                       time_steps,\n                       fig,axes)\n\nfor axi in axes.flatten():\n    Majadas_CLC_gdf_reproj.plot(ax=axi, \n                                edgecolor=\"black\", \n                                facecolor=\"none\", \n                                # alpha=1,\n                                )\n\n\n# Majadas_CLC_gdf_reproj.plot()"
      ]
    },
    {
      "cell_type": "code",
      "execution_count": null,
      "metadata": {
        "collapsed": false
      },
      "outputs": [],
      "source": [
        "event_type_sorted = event_type.sortby(\"time\")\nevent_type_filtered = event_type_sorted.sel(time=slice(start_date,end_date))\n\n\nevent_type_IrrLand = (\n    event_type_filtered\n    .where(mask_CLC_IrrLand)\n    # .mean(['x', 'y'])\n)\n\n\nevent_type_Agroforestry = (\n    event_type_filtered\n    .where(mask_CLC_Agroforestry)\n    # .mean(['x', 'y'])\n)\n\n\nnp.sum(event_type)\nnp.sum(event_type_Agroforestry)\n\nncols = 4\ntime_steps = event_type_IrrLand.time.size\nnrows = int(np.ceil(time_steps / ncols))  # Number of rows needed\nfig, axes = plt.subplots(nrows=nrows, ncols=ncols, \n                         figsize=(15, nrows * 3)\n                         )\npltC.plot_irrigation_schedule(event_type_IrrLand,\n                              time_steps,\n                              fig,\n                              axes\n                              )\n\n\nfig, axes = plt.subplots(nrows=nrows, ncols=ncols, \n                         figsize=(15, nrows * 3)\n                         )\npltC.plot_irrigation_schedule(event_type_Agroforestry,\n                              time_steps,\n                              fig,\n                              axes\n                              )\n    \n\n    \n\n# event_type_node_IN = (\n#     event_type_filtered\n#     .where(mask_CLCselected_land_covers{lci+1}\"])\n#     .mean(['x', 'y'])\n# )"
      ]
    }
  ],
  "metadata": {
    "kernelspec": {
      "display_name": "Python 3",
      "language": "python",
      "name": "python3"
    },
    "language_info": {
      "codemirror_mode": {
        "name": "ipython",
        "version": 3
      },
      "file_extension": ".py",
      "mimetype": "text/x-python",
      "name": "python",
      "nbconvert_exporter": "python",
      "pygments_lexer": "ipython3",
      "version": "3.10.16"
    }
  },
  "nbformat": 4,
  "nbformat_minor": 0
}
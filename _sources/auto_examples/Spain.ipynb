{
  "cells": [
    {
      "cell_type": "markdown",
      "metadata": {},
      "source": [
        "\n# Tree-Grass ecosystem (Spain, Majadas de Tietar)\nThis example demonstrates how to load and visualize datasets related to\nevapotranspiration (ETa) and land cover classification (CLC) over the Majadas\nregion in Spain. The datasets are loaded using Pooch for remote file management.\nTwo visualizations are created: one showing land cover classification (CLC) and\nanother displaying the time series of evapotranspiration (ETa).\n"
      ]
    },
    {
      "cell_type": "code",
      "execution_count": null,
      "metadata": {
        "collapsed": false
      },
      "outputs": [],
      "source": [
        "import pooch\nimport xarray as xr \nimport matplotlib.pyplot as plt \nfrom matplotlib.animation import FuncAnimation\nfrom IPython.display import HTML"
      ]
    },
    {
      "cell_type": "markdown",
      "metadata": {},
      "source": [
        "Step 1: Download datasets using Pooch\nPooch is used to manage the dataset downloads from the specified GitHub repository.\n\n"
      ]
    },
    {
      "cell_type": "code",
      "execution_count": null,
      "metadata": {
        "collapsed": false
      },
      "outputs": [],
      "source": [
        "pooch_Majadas = pooch.create(\n    path=pooch.os_cache(\"Majadas_project\"),\n    base_url=\"https://github.com/BenjMy/test_Majadas_centum_dataset/raw/refs/heads/main/\",\n    registry={\n        \"20200403_LEVEL2_ECMWF_TPday.tif\": None,\n        \"ETa_Majadas.netcdf\": None,\n        \"ETp_Majadas.netcdf\": None,\n        \"CLCover_Majadas.netcdf\": None,\n    },\n)\n\nMajadas_ETa_dataset = pooch_Majadas.fetch('ETa_Majadas.netcdf')\nMajadas_ETp_dataset = pooch_Majadas.fetch('ETp_Majadas.netcdf')\nMajadas_CLC_dataset = pooch_Majadas.fetch('CLCover_Majadas.netcdf')\n\nETa_ds = xr.load_dataset(Majadas_ETa_dataset)\nETa_ds = ETa_ds.rename({\"__xarray_dataarray_variable__\": \"ETa\"})  # Rename the main variable to 'ETa'\nCLC = xr.load_dataset(Majadas_CLC_dataset)  # Load the CLC dataset"
      ]
    },
    {
      "cell_type": "markdown",
      "metadata": {},
      "source": [
        "Step 2: Corine Land Cover Visualization\n\n"
      ]
    },
    {
      "cell_type": "code",
      "execution_count": null,
      "metadata": {
        "collapsed": false
      },
      "outputs": [],
      "source": [
        "x_coords_CLC = CLC['Code_CLC'].coords['x'].values\ny_coords_CLC = CLC['Code_CLC'].coords['y'].values\n\nfig, ax = plt.subplots()\nim1 = ax.imshow(CLC['Code_CLC'].values, cmap='viridis', aspect='auto', origin='upper',\n                    extent=[x_coords_CLC.min(), x_coords_CLC.max(), y_coords_CLC.min(), y_coords_CLC.max()])\nax.set_title('CLC Code') \nax.set_xlabel('X Coordinate') \nax.set_ylabel('Y Coordinate') \nax.axis('square')  #\n\nplt.tight_layout()\nplt.show()"
      ]
    },
    {
      "cell_type": "markdown",
      "metadata": {},
      "source": [
        "Step 3: Create an animated visualization of the ETa time series\n\n"
      ]
    },
    {
      "cell_type": "code",
      "execution_count": null,
      "metadata": {
        "collapsed": false
      },
      "outputs": [],
      "source": [
        "ETa_ds_selec = ETa_ds.isel(time=slice(0, 25))\nx_coords = ETa_ds_selec['ETa'].coords['x'].values\ny_coords = ETa_ds_selec['ETa'].coords['y'].values\n\nfig, ax = plt.subplots(figsize=(8, 6))\nim = ax.imshow(ETa_ds_selec['ETa'].isel(band=0).isel(time=0).values, cmap='coolwarm', origin='upper',\n               extent=[x_coords.min(), x_coords.max(), y_coords.min(), y_coords.max()])\nax.set_title('ETa Time Series')  # Title for the time series plot\nax.set_xlabel('X Coordinate')  # Label for the X axis\nax.set_ylabel('Y Coordinate')  # Label for the Y axis\nax.axis('square')  # Make the axis square for proper aspect ratio\n\ncbar = fig.colorbar(im, ax=ax, orientation='vertical', extend='both', label='ETa')\n\ndef update(frame):\n    im.set_data(ETa_ds_selec['ETa'].isel(band=0).isel(time=frame).values)\n    ax.set_title(f'ETa Time Step: {frame}')\n    return [im]\n\nani = FuncAnimation(fig, update, frames=len(ETa_ds_selec['time']), interval=200, blit=True)\nHTML(ani.to_jshtml())  # Show the animation in the notebook"
      ]
    }
  ],
  "metadata": {
    "kernelspec": {
      "display_name": "Python 3",
      "language": "python",
      "name": "python3"
    },
    "language_info": {
      "codemirror_mode": {
        "name": "ipython",
        "version": 3
      },
      "file_extension": ".py",
      "mimetype": "text/x-python",
      "name": "python",
      "nbconvert_exporter": "python",
      "pygments_lexer": "ipython3",
      "version": "3.10.16"
    }
  },
  "nbformat": 4,
  "nbformat_minor": 0
}
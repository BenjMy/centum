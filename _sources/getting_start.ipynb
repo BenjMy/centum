{
 "cells": [
  {
   "cell_type": "markdown",
   "id": "c9167285-7cf8-4554-b5f5-2975a20ac6ec",
   "metadata": {},
   "source": [
    "# Installing"
   ]
  },
  {
   "cell_type": "markdown",
   "id": "658b3f09-00ad-4fc2-b006-846175c4aead",
   "metadata": {},
   "source": [
    ":::{important} Installing Centum\n",
    "```bash\n",
    "pip install centum\n",
    "```\n",
    ":::"
   ]
  },
  {
   "cell_type": "markdown",
   "id": "bea18273-92d0-4598-a0cd-570a883a14b8",
   "metadata": {},
   "source": [
    "# Which Python?\n",
    "You’ll need Python >= 3.9"
   ]
  },
  {
   "cell_type": "markdown",
   "id": "e7c56379-b891-415d-b519-a2ebcbca1143",
   "metadata": {},
   "source": [
    "# Importing libraries"
   ]
  },
  {
   "cell_type": "code",
   "execution_count": 2,
   "id": "aa37ca6c-e859-4b08-aa56-906fd381acc9",
   "metadata": {},
   "outputs": [],
   "source": [
    "from centum import plotting as pltC\n",
    "from centum.irrigation_district import IrrigationDistrict \n",
    "from centum.delineation import ETAnalysis"
   ]
  },
  {
   "cell_type": "markdown",
   "id": "fe02c3e5-984b-4222-bb32-ff9b1cf1f67f",
   "metadata": {},
   "source": [
    "## Download datasets"
   ]
  },
  {
   "cell_type": "code",
   "execution_count": 6,
   "id": "c3fd58ba-2129-490f-8633-6d60e81ff82a",
   "metadata": {},
   "outputs": [],
   "source": []
  }
 ],
 "metadata": {
  "kernelspec": {
   "display_name": "Python 3 (ipykernel)",
   "language": "python",
   "name": "python3"
  },
  "language_info": {
   "codemirror_mode": {
    "name": "ipython",
    "version": 3
   },
   "file_extension": ".py",
   "mimetype": "text/x-python",
   "name": "python",
   "nbconvert_exporter": "python",
   "pygments_lexer": "ipython3",
   "version": "3.9.21"
  }
 },
 "nbformat": 4,
 "nbformat_minor": 5
}

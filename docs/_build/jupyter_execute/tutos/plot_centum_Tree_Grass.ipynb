{
 "cells": [
  {
   "cell_type": "markdown",
   "id": "c9167285-7cf8-4554-b5f5-2975a20ac6ec",
   "metadata": {},
   "source": [
    "# Tree-Grass ecosystem analysis\n",
    "\n",
    "**License:** CC-BY-4.0  \n",
    "**Github:** [https://github.com/BenjMy/centum](https://github.com/BenjMy/centum)  \n",
    "**Subject:** Tutorial\n",
    "**Authors**:\n",
    "\n",
    "Benjamin Mary\n",
    "  Email: [benjamin.mary@ica.csic.es](mailto:benjamin.mary@ica.csic.es)  \n",
    "  ORCID: [0000-0001-7199-2885](https://orcid.org/0000-0001-7199-2885)  \n",
    "  Affiliation: ICA-CSIC\n",
    "  \n",
    "**Date:** 2025/01/10\n"
   ]
  },
  {
   "cell_type": "markdown",
   "id": "ea3dd36a-28c9-4eaf-a219-3a8ebd606f34",
   "metadata": {},
   "source": [
    ":::{note} Hypothesis\n",
    "Irrigated agricultural areas can be distinguished from adjacent agricultural parcels or natural areas through a sudden increase in actual evapotranspiration which cannot be explained by other factors (e.g. change in weather or vegetation cover).\n",
    ":::\n",
    "\n"
   ]
  },
  {
   "cell_type": "markdown",
   "id": "fe02c3e5-984b-4222-bb32-ff9b1cf1f67f",
   "metadata": {},
   "source": [
    ":::{important}\n",
    "\n",
    "For the **delineation** we will use two types of datasets: \n",
    "- Earth Observation induced actual ET (calculated from an energy balance model): those are 3d raster datasets(x,y,time);\n",
    "- Only when dealing with real datasets: irrigation district shapefiles\n",
    ":::\n",
    "\n",
    "In order to make calculation we will use the xarray datarray library. This has the advantage to allow us to read directly netcdf file format a standart for large raster images processing/storing. \n",
    "\n",
    "In the following we use a synthetic dataset that describe a rain event at day 3. "
   ]
  },
  {
   "cell_type": "code",
   "execution_count": 1,
   "id": "a415e61d-2d90-43c9-8da9-c83e26d5683f",
   "metadata": {},
   "outputs": [],
   "source": [
    "import pooch\n",
    "import xarray as xr\n",
    "import numpy as np\n",
    "import matplotlib.pyplot as plt"
   ]
  },
  {
   "cell_type": "code",
   "execution_count": 2,
   "id": "c3fd58ba-2129-490f-8633-6d60e81ff82a",
   "metadata": {},
   "outputs": [],
   "source": [
    "pooch_Majadas = pooch.create(\n",
    "    path=pooch.os_cache(\"Majadas_project\"),\n",
    "    base_url=\"https://github.com/BenjMy/test_Majadas_centum_dataset/raw/refs/heads/main/\",\n",
    "    registry={\n",
    "        \"20200403_LEVEL2_ECMWF_TPday.tif\": None,\n",
    "        \"ETa_Majadas.netcdf\": None,\n",
    "        \"ETp_Majadas.netcdf\": None,\n",
    "        \"CLCover_Majadas.netcdf\": None,\n",
    "    },\n",
    ")\n",
    "\n",
    "Majadas_ETa_dataset = pooch_Majadas.fetch('ETa_Majadas.netcdf')\n",
    "Majadas_ETp_dataset = pooch_Majadas.fetch('ETp_Majadas.netcdf')\n",
    "Majadas_CLC_dataset = pooch_Majadas.fetch('CLCover_Majadas.netcdf')\n",
    "\n",
    "ETa_ds = xr.load_dataset(Majadas_ETa_dataset)\n",
    "ETa_ds = ETa_ds.rename({\"__xarray_dataarray_variable__\": \"ETa\"})  # Rename the main variable to 'ETa'\n",
    "CLC = xr.load_dataset(Majadas_CLC_dataset)  # Load the CLC dataset\n"
   ]
  },
  {
   "cell_type": "markdown",
   "id": "97fe8f86-487f-4407-8a40-d0057366e38d",
   "metadata": {},
   "source": [
    "**Show Earth Observation time serie to analyse**"
   ]
  }
 ],
 "metadata": {
  "kernelspec": {
   "display_name": "Python 3 (ipykernel)",
   "language": "python",
   "name": "python3"
  },
  "language_info": {
   "codemirror_mode": {
    "name": "ipython",
    "version": 3
   },
   "file_extension": ".py",
   "mimetype": "text/x-python",
   "name": "python",
   "nbconvert_exporter": "python",
   "pygments_lexer": "ipython3",
   "version": "3.9.21"
  }
 },
 "nbformat": 4,
 "nbformat_minor": 5
}
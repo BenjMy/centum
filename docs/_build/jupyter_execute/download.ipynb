{
 "cells": [
  {
   "cell_type": "markdown",
   "id": "c9167285-7cf8-4554-b5f5-2975a20ac6ec",
   "metadata": {},
   "source": [
    "# Download datasets"
   ]
  },
  {
   "cell_type": "markdown",
   "id": "a3ddc1ec-7a13-427f-aebc-f8eebbb60fc7",
   "metadata": {},
   "source": [
    "One of the main use cases of Centum is to provide **reproducible and easy-to-access data**. \n",
    "\n",
    "Use the functions in the Pooch module to download and cache (store) each dataset on your computer.    "
   ]
  },
  {
   "cell_type": "markdown",
   "id": "bfa03aca-4d28-427c-931d-ab21113d4b72",
   "metadata": {},
   "source": [
    ":::{note} Example\n",
    "```python\n",
    "pooch_Majadas = pooch.create(\n",
    "    path=pooch.os_cache(\"AQUACROP_project\"),\n",
    "    base_url=\"https://github.com/BenjMy/test_AQUACROP_centum_dataset/raw/refs/heads/main/AQUACROP/\",\n",
    "    registry={\n",
    "        \"EO_scenario_AquaCrop_sc7_weather_reference.netcdf\": None,\n",
    "        \"baseline_scenario_AquaCrop_sc7_weather_reference.netcdf\": None,\n",
    "        \"grid_xr_EO_AquaCrop_sc7_weather_reference.netcdf\": None,\n",
    "    },\n",
    ")\n",
    "```\n",
    ":::\n",
    "\n"
   ]
  },
  {
   "cell_type": "markdown",
   "id": "47ae2134-7c7c-4c3c-8977-d5154bb0c279",
   "metadata": {},
   "source": [
    ":::{warning} Work in progress\n",
    "At the moment test datasets are located in github repository\n",
    "\n",
    "**After V1 release** all datasets will be versioned and included in Zenodo. \n",
    ":::\n"
   ]
  }
 ],
 "metadata": {
  "kernelspec": {
   "display_name": "Python 3 (ipykernel)",
   "language": "python",
   "name": "python3"
  },
  "language_info": {
   "codemirror_mode": {
    "name": "ipython",
    "version": 3
   },
   "file_extension": ".py",
   "mimetype": "text/x-python",
   "name": "python",
   "nbconvert_exporter": "python",
   "pygments_lexer": "ipython3",
   "version": "3.9.21"
  }
 },
 "nbformat": 4,
 "nbformat_minor": 5
}
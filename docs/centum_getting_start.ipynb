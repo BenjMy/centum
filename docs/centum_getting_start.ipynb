{
 "cells": [
  {
   "cell_type": "markdown",
   "id": "c9167285-7cf8-4554-b5f5-2975a20ac6ec",
   "metadata": {},
   "source": [
    "---\n",
    "title: Centum Getting Start\n",
    "subtitle: Water Accounting usnig Centum\n",
    "license: CC-BY-4.0\n",
    "github: https://github.com/executablebooks/mystjs\n",
    "subject: Tutorial\n",
    "authors:\n",
    "  - name: Benjamin Mary\n",
    "    email: benjamin.mary@ica.csic.es\n",
    "    corresponding: true\n",
    "    orcid: \n",
    "    affiliations:\n",
    "      - ICA-CSIC\n",
    "date: 2025/01/10\n",
    "---"
   ]
  },
  {
   "cell_type": "markdown",
   "id": "658b3f09-00ad-4fc2-b006-846175c4aead",
   "metadata": {},
   "source": [
    "## Welcome to using Centum \n",
    "\n",
    ":::{important} Installing Centum\n",
    "```bash\n",
    "pip install centum\n",
    "```\n",
    ":::"
   ]
  },
  {
   "cell_type": "code",
   "execution_count": 4,
   "id": "7694ad28-4f25-47f4-a71a-6c52d6e042c0",
   "metadata": {},
   "outputs": [
    {
     "name": "stdout",
     "output_type": "stream",
     "text": [
      "Collecting centum==0.1.4\n",
      "  Downloading centum-0.1.4-py3-none-any.whl.metadata (2.5 kB)\n",
      "Requirement already satisfied: geopandas in /home/z0272571a@CAMPUS.CSIC.ES/.local/lib/python3.9/site-packages (from centum==0.1.4) (0.14.3)\n",
      "Requirement already satisfied: matplotlib in /home/z0272571a@CAMPUS.CSIC.ES/miniconda3/envs/Bousval/lib/python3.9/site-packages (from centum==0.1.4) (3.9.0)\n",
      "Requirement already satisfied: numpy in /home/z0272571a@CAMPUS.CSIC.ES/miniconda3/envs/Bousval/lib/python3.9/site-packages (from centum==0.1.4) (1.26.2)\n",
      "Requirement already satisfied: pandas in /home/z0272571a@CAMPUS.CSIC.ES/miniconda3/envs/Bousval/lib/python3.9/site-packages (from centum==0.1.4) (2.1.4)\n",
      "Requirement already satisfied: rioxarray in /home/z0272571a@CAMPUS.CSIC.ES/miniconda3/envs/Bousval/lib/python3.9/site-packages (from centum==0.1.4) (0.15.0)\n",
      "Requirement already satisfied: xarray in /home/z0272571a@CAMPUS.CSIC.ES/miniconda3/envs/Bousval/lib/python3.9/site-packages (from centum==0.1.4) (2024.6.0)\n",
      "Requirement already satisfied: fiona>=1.8.21 in /home/z0272571a@CAMPUS.CSIC.ES/.local/lib/python3.9/site-packages (from geopandas->centum==0.1.4) (1.9.5)\n",
      "Requirement already satisfied: packaging in /home/z0272571a@CAMPUS.CSIC.ES/.local/lib/python3.9/site-packages (from geopandas->centum==0.1.4) (23.2)\n",
      "Requirement already satisfied: pyproj>=3.3.0 in /home/z0272571a@CAMPUS.CSIC.ES/.local/lib/python3.9/site-packages (from geopandas->centum==0.1.4) (3.6.1)\n",
      "Requirement already satisfied: shapely>=1.8.0 in /home/z0272571a@CAMPUS.CSIC.ES/.local/lib/python3.9/site-packages (from geopandas->centum==0.1.4) (2.0.3)\n",
      "Requirement already satisfied: python-dateutil>=2.8.2 in /home/z0272571a@CAMPUS.CSIC.ES/.local/lib/python3.9/site-packages (from pandas->centum==0.1.4) (2.9.0.post0)\n",
      "Requirement already satisfied: pytz>=2020.1 in /home/z0272571a@CAMPUS.CSIC.ES/.local/lib/python3.9/site-packages (from pandas->centum==0.1.4) (2024.1)\n",
      "Requirement already satisfied: tzdata>=2022.1 in /home/z0272571a@CAMPUS.CSIC.ES/.local/lib/python3.9/site-packages (from pandas->centum==0.1.4) (2024.1)\n",
      "Requirement already satisfied: contourpy>=1.0.1 in /home/z0272571a@CAMPUS.CSIC.ES/.local/lib/python3.9/site-packages (from matplotlib->centum==0.1.4) (1.2.0)\n",
      "Requirement already satisfied: cycler>=0.10 in /home/z0272571a@CAMPUS.CSIC.ES/.local/lib/python3.9/site-packages (from matplotlib->centum==0.1.4) (0.12.1)\n",
      "Requirement already satisfied: fonttools>=4.22.0 in /home/z0272571a@CAMPUS.CSIC.ES/.local/lib/python3.9/site-packages (from matplotlib->centum==0.1.4) (4.49.0)\n",
      "Requirement already satisfied: kiwisolver>=1.3.1 in /home/z0272571a@CAMPUS.CSIC.ES/.local/lib/python3.9/site-packages (from matplotlib->centum==0.1.4) (1.4.5)\n",
      "Requirement already satisfied: pillow>=8 in /home/z0272571a@CAMPUS.CSIC.ES/.local/lib/python3.9/site-packages (from matplotlib->centum==0.1.4) (10.2.0)\n",
      "Requirement already satisfied: pyparsing>=2.3.1 in /home/z0272571a@CAMPUS.CSIC.ES/.local/lib/python3.9/site-packages (from matplotlib->centum==0.1.4) (3.1.2)\n",
      "Requirement already satisfied: importlib-resources>=3.2.0 in /home/z0272571a@CAMPUS.CSIC.ES/.local/lib/python3.9/site-packages (from matplotlib->centum==0.1.4) (6.1.3)\n",
      "Requirement already satisfied: rasterio>=1.2 in /home/z0272571a@CAMPUS.CSIC.ES/miniconda3/envs/Bousval/lib/python3.9/site-packages (from rioxarray->centum==0.1.4) (1.3.9)\n",
      "Requirement already satisfied: attrs>=19.2.0 in /home/z0272571a@CAMPUS.CSIC.ES/.local/lib/python3.9/site-packages (from fiona>=1.8.21->geopandas->centum==0.1.4) (23.2.0)\n",
      "Requirement already satisfied: certifi in /home/z0272571a@CAMPUS.CSIC.ES/.local/lib/python3.9/site-packages (from fiona>=1.8.21->geopandas->centum==0.1.4) (2024.2.2)\n",
      "Requirement already satisfied: click~=8.0 in /home/z0272571a@CAMPUS.CSIC.ES/.local/lib/python3.9/site-packages (from fiona>=1.8.21->geopandas->centum==0.1.4) (8.1.7)\n",
      "Requirement already satisfied: click-plugins>=1.0 in /home/z0272571a@CAMPUS.CSIC.ES/.local/lib/python3.9/site-packages (from fiona>=1.8.21->geopandas->centum==0.1.4) (1.1.1)\n",
      "Requirement already satisfied: cligj>=0.5 in /home/z0272571a@CAMPUS.CSIC.ES/.local/lib/python3.9/site-packages (from fiona>=1.8.21->geopandas->centum==0.1.4) (0.7.2)\n",
      "Requirement already satisfied: six in /home/z0272571a@CAMPUS.CSIC.ES/miniconda3/envs/Bousval/lib/python3.9/site-packages (from fiona>=1.8.21->geopandas->centum==0.1.4) (1.16.0)\n",
      "Requirement already satisfied: setuptools in /home/z0272571a@CAMPUS.CSIC.ES/miniconda3/envs/Bousval/lib/python3.9/site-packages (from fiona>=1.8.21->geopandas->centum==0.1.4) (68.2.2)\n",
      "Requirement already satisfied: importlib-metadata in /home/z0272571a@CAMPUS.CSIC.ES/.local/lib/python3.9/site-packages (from fiona>=1.8.21->geopandas->centum==0.1.4) (7.0.2)\n",
      "Requirement already satisfied: zipp>=3.1.0 in /home/z0272571a@CAMPUS.CSIC.ES/.local/lib/python3.9/site-packages (from importlib-resources>=3.2.0->matplotlib->centum==0.1.4) (3.17.0)\n",
      "Requirement already satisfied: affine in /home/z0272571a@CAMPUS.CSIC.ES/miniconda3/envs/Bousval/lib/python3.9/site-packages (from rasterio>=1.2->rioxarray->centum==0.1.4) (2.4.0)\n",
      "Requirement already satisfied: snuggs>=1.4.1 in /home/z0272571a@CAMPUS.CSIC.ES/miniconda3/envs/Bousval/lib/python3.9/site-packages (from rasterio>=1.2->rioxarray->centum==0.1.4) (1.4.7)\n",
      "Downloading centum-0.1.4-py3-none-any.whl (18 kB)\n",
      "Installing collected packages: centum\n",
      "  Attempting uninstall: centum\n",
      "    Found existing installation: centum 0.3\n",
      "    Uninstalling centum-0.3:\n",
      "      Successfully uninstalled centum-0.3\n",
      "Successfully installed centum-0.1.4\n"
     ]
    }
   ],
   "source": [
    "!pip install centum==0.1.4\n",
    "#!python ../setup.py install"
   ]
  },
  {
   "cell_type": "code",
   "execution_count": null,
   "id": "aa37ca6c-e859-4b08-aa56-906fd381acc9",
   "metadata": {},
   "outputs": [],
   "source": []
  },
  {
   "cell_type": "code",
   "execution_count": 6,
   "id": "ec12f09a-d190-447d-8c25-47ecc3d3842e",
   "metadata": {},
   "outputs": [],
   "source": [
    "from centum import plotting as pltC\n",
    "import numpy as np\n",
    "import xarray as xr\n",
    "\n",
    "from centum.irrigation_district import IrrigationDistrict \n"
   ]
  },
  {
   "cell_type": "code",
   "execution_count": 5,
   "id": "afe7f00a-cf51-4bdb-82a0-e4ddbf5e91c1",
   "metadata": {},
   "outputs": [
    {
     "ename": "ImportError",
     "evalue": "cannot import name 'ETAnalysis' from 'centum.delineation' (/home/z0272571a@CAMPUS.CSIC.ES/miniconda3/envs/Bousval/lib/python3.9/site-packages/centum/delineation.py)",
     "output_type": "error",
     "traceback": [
      "\u001b[0;31m---------------------------------------------------------------------------\u001b[0m",
      "\u001b[0;31mImportError\u001b[0m                               Traceback (most recent call last)",
      "Cell \u001b[0;32mIn[5], line 1\u001b[0m\n\u001b[0;32m----> 1\u001b[0m \u001b[38;5;28;01mfrom\u001b[39;00m \u001b[38;5;21;01mcentum\u001b[39;00m\u001b[38;5;21;01m.\u001b[39;00m\u001b[38;5;21;01mdelineation\u001b[39;00m \u001b[38;5;28;01mimport\u001b[39;00m ETAnalysis\n\u001b[1;32m      2\u001b[0m \u001b[38;5;28;01mimport\u001b[39;00m \u001b[38;5;21;01mmatplotlib\u001b[39;00m\u001b[38;5;21;01m.\u001b[39;00m\u001b[38;5;21;01mpyplot\u001b[39;00m \u001b[38;5;28;01mas\u001b[39;00m \u001b[38;5;21;01mplt\u001b[39;00m\n\u001b[1;32m      4\u001b[0m \u001b[38;5;28;01mfrom\u001b[39;00m \u001b[38;5;21;01mcentum\u001b[39;00m\u001b[38;5;21;01m.\u001b[39;00m\u001b[38;5;21;01mirrigation_district\u001b[39;00m \u001b[38;5;28;01mimport\u001b[39;00m IrrigationDistrict \n",
      "\u001b[0;31mImportError\u001b[0m: cannot import name 'ETAnalysis' from 'centum.delineation' (/home/z0272571a@CAMPUS.CSIC.ES/miniconda3/envs/Bousval/lib/python3.9/site-packages/centum/delineation.py)"
     ]
    }
   ],
   "source": [
    "\n",
    "from centum.delineation import ETAnalysis\n",
    "import matplotlib.pyplot as plt\n",
    "\n",
    "from centum.irrigation_district import IrrigationDistrict \n",
    "from centum import irrigation_district as irr_geo_tools \n"
   ]
  },
  {
   "cell_type": "markdown",
   "id": "fe02c3e5-984b-4222-bb32-ff9b1cf1f67f",
   "metadata": {},
   "source": [
    "## Open datasets"
   ]
  },
  {
   "cell_type": "code",
   "execution_count": null,
   "id": "c3fd58ba-2129-490f-8633-6d60e81ff82a",
   "metadata": {},
   "outputs": [],
   "source": [
    "ds_analysis_EO = xr.open_dataset(f'../data/synthetic/ds_analysis_EO_0.netcdf')\n",
    "ds_analysis_baseline = xr.open_dataset(f'../data/synthetic/ds_analysis_baseline_0.netcdf')"
   ]
  },
  {
   "cell_type": "markdown",
   "id": "97fe8f86-487f-4407-8a40-d0057366e38d",
   "metadata": {},
   "source": [
    "## Show Earth Observation time serie to analyse"
   ]
  },
  {
   "cell_type": "code",
   "execution_count": null,
   "id": "8d93c1c8-a9ab-4f10-af1a-64aaa89f0713",
   "metadata": {},
   "outputs": [],
   "source": [
    "_, index = np.unique(ds_analysis_EO['time'], return_index=True)\n",
    "ds_analysis_EO = ds_analysis_EO.isel(time=index)\n",
    "ds_analysis_baseline = ds_analysis_baseline.isel(time=index)\n",
    "\n",
    "ds_analysis_EO['ACT. ETRA'].plot.imshow(x=\"x\", y=\"y\", \n",
    "                                        col=\"time\", \n",
    "                                        col_wrap=4,\n",
    "                                        )\n",
    "ds_analysis_baseline['ACT. ETRA'].plot.imshow(x=\"x\", y=\"y\", \n",
    "                                        col=\"time\", \n",
    "                                        col_wrap=4,\n",
    "                                        )"
   ]
  },
  {
   "cell_type": "markdown",
   "id": "d9e34efb-91a4-417b-8ee7-185ba15732e0",
   "metadata": {},
   "source": [
    "## Irrigation delineation"
   ]
  },
  {
   "cell_type": "code",
   "execution_count": null,
   "id": "50097378-99c9-473c-8bd6-6db75b53ed72",
   "metadata": {},
   "outputs": [],
   "source": [
    "scenario_analysis_usingET = ETAnalysis()\n",
    "decision_ds, event_type = scenario_analysis_usingET.irrigation_delineation(ds_analysis_EO)\n",
    "\n",
    "#%% Plot timeline \n",
    "ncols = 4\n",
    "time_steps = event_type.time.size\n",
    "nrows = int(np.ceil(time_steps / ncols))  # Number of rows needed\n",
    "fig, axes = plt.subplots(nrows=nrows, ncols=ncols, \n",
    "                         figsize=(15, nrows * 3)\n",
    "                         )\n",
    "pltC.plot_irrigation_schedule(event_type,time_steps,fig,axes)"
   ]
  },
  {
   "cell_type": "markdown",
   "id": "2dbf9a9e-9881-4ada-9d6b-a9ec0a62948a",
   "metadata": {},
   "source": [
    "## Prepare geographic analysis of irrigation districts"
   ]
  },
  {
   "cell_type": "code",
   "execution_count": null,
   "id": "c1f722b7-ec37-4862-aaca-894c72bca361",
   "metadata": {},
   "outputs": [],
   "source": [
    "GeoAnalysis = IrrigationDistrict(\"../data/synthetic/area_SC0.shp\")\n",
    "gdf_irr = GeoAnalysis.load_shapefile()\n",
    "resolution = event_type.rio.resolution()[0]\n",
    "bounds = gdf.total_bounds  # (minx, miny, maxx, maxy)\n",
    "gdf_irr['index'] = gdf_irr.index.values\n",
    "rioxr_irrigation = GeoAnalysis.convert_to_rioxarray(gdf=gdf_irr, \n",
    "                                                    variable=\"index\", \n",
    "                                                    resolution=resolution, \n",
    "                                                    bounds=bounds\n",
    "                                                    )\n",
    "rioxr_irrigation = rioxr_irrigation.rio.write_crs(\"EPSG:4326\")\n",
    "event_type = event_type.rio.write_crs(\"EPSG:4326\")\n",
    "rioxr_irrigation= rioxr_irrigation.rio.reproject_match(event_type)\n"
   ]
  },
  {
   "cell_type": "markdown",
   "id": "9acc738d-4a27-4fd2-84cb-587628839cea",
   "metadata": {},
   "source": [
    "## Show result for a given district"
   ]
  },
  {
   "cell_type": "code",
   "execution_count": null,
   "id": "b2a353d1-6ff5-4688-bec9-ff6fe3999f95",
   "metadata": {},
   "outputs": [],
   "source": [
    "mask_IN = irr_geo_tools.get_mask_IN_patch_i(rioxr_irrigation,\n",
    "                                    patchid=1\n",
    "                                    )\n",
    "mask_IN = rioxr_irrigation==1\n",
    "mask_OUT = irr_geo_tools.get_mask_OUT(rioxr_irrigation,\n",
    "                                      )\n",
    "\n",
    "event_type_node_IN = event_type.where(mask_IN, drop=True).mean(['x','y'])\n",
    "event_type_node_OUT = event_type.where(mask_OUT, drop=True).mean(['x','y'])"
   ]
  }
 ],
 "metadata": {
  "kernelspec": {
   "display_name": "Python 3 (ipykernel)",
   "language": "python",
   "name": "python3"
  },
  "language_info": {
   "codemirror_mode": {
    "name": "ipython",
    "version": 3
   },
   "file_extension": ".py",
   "mimetype": "text/x-python",
   "name": "python",
   "nbconvert_exporter": "python",
   "pygments_lexer": "ipython3",
   "version": "3.9.18"
  }
 },
 "nbformat": 4,
 "nbformat_minor": 5
}

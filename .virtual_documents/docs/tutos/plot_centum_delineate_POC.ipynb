


import numpy as np
import pooch
import xarray as xr
import matplotlib.pyplot as plt


from centum import plotting as pltC
from centum.irrigation_district import IrrigationDistrict 
from centum import irrigation_district as irr_geo_tools 
from centum.delineation import ETAnalysis





pooch_Majadas = pooch.create(
    path=pooch.os_cache("POC_project"),
    base_url="https://github.com/BenjMy/test_AQUACROP_centum_dataset/raw/refs/heads/main/",
    registry={
        "ds_analysis_EO_0.netcdf": None,
        "ds_analysis_baseline_0.netcdf": None,
    },
)
filename = pooch_Majadas.fetch('ds_analysis_EO_0.netcdf')
ds_analysis_EO = xr.load_dataset(filename)

filename = pooch_Majadas.fetch('ds_analysis_baseline_0.netcdf')
ds_analysis_baselin = xr.load_dataset(filename)





_, index = np.unique(ds_analysis_EO['time'], return_index=True)
ds_analysis_EO = ds_analysis_EO.isel(time=index)

ds_analysis_EO['ACT. ETRA'].plot.imshow(x="x", y="y", 
                                        col="time", 
                                        col_wrap=4,
                                        )





scenario_analysis_usingET = ETAnalysis()
decision_ds, event_type = scenario_analysis_usingET.irrigation_delineation(ds_analysis_EO)





print(decision_ds)





ncols = 4
time_steps = event_type.time.size
nrows = int(np.ceil(time_steps / ncols))  # Number of rows needed
fig, axes = plt.subplots(nrows=nrows, ncols=ncols, 
                         figsize=(15, nrows * 3)
                         )
pltC.plot_irrigation_schedule(event_type,time_steps,fig,axes)





GeoAnalysis = IrrigationDistrict("../../data/synthetic/area_SC0.shp")
gdf_irr = GeoAnalysis.load_shapefile()
resolution = event_type.rio.resolution()[0]
bounds = gdf_irr.total_bounds  # (minx, miny, maxx, maxy)
gdf_irr['index'] = gdf_irr.index.values
rioxr_irrigation = GeoAnalysis.convert_to_rioxarray(gdf=gdf_irr, 
                                                    variable="index", 
                                                    resolution=resolution, 
                                                    bounds=bounds
                                                    )
rioxr_irrigation = rioxr_irrigation.rio.write_crs("EPSG:4326")
event_type = event_type.rio.write_crs("EPSG:4326")
rioxr_irrigation= rioxr_irrigation.rio.reproject_match(event_type)






mask_IN = irr_geo_tools.get_mask_IN_patch_i(rioxr_irrigation,
                                            patchid=1
                                            )
mask_IN = rioxr_irrigation==1
mask_OUT = irr_geo_tools.get_mask_OUT(rioxr_irrigation,
                                      )

event_type_node_IN = event_type.where(mask_IN, drop=True).mean(['x','y'])
event_type_node_OUT = event_type.where(mask_OUT, drop=True).mean(['x','y'])


event_type_node_IN.plot()

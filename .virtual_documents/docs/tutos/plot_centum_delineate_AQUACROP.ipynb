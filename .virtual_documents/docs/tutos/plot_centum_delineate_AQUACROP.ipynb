


import numpy as np
import pooch
import xarray as xr
import centum
import matplotlib.pyplot as plt
import july
from july.utils import date_range
import pandas as pd


from centum import plotting as pltC
from centum.delineation import ETAnalysis





pooch_Majadas = pooch.create(
    path=pooch.os_cache("AQUACROP_project"),
    base_url="https://github.com/BenjMy/test_AQUACROP_centum_dataset/raw/refs/heads/main/AQUACROP/",
    registry={
        "EO_scenario_AquaCrop_sc7_weather_reference.netcdf": None,
        "baseline_scenario_AquaCrop_sc7_weather_reference.netcdf": None,
        "grid_xr_EO_AquaCrop_sc7_weather_reference.netcdf": None,
    },
)

filename = pooch_Majadas.fetch('EO_scenario_AquaCrop_sc7_weather_reference.netcdf')
EO_scenario_AquaCrop_sc7_weather_reference_EO_ds = xr.load_dataset(filename)
EO_scenario_AquaCrop_sc7_weather_reference_EO_ds = EO_scenario_AquaCrop_sc7_weather_reference_EO_ds.isel(time=slice(1,100))

filename = pooch_Majadas.fetch('baseline_scenario_AquaCrop_sc7_weather_reference.netcdf')
baseline_scenario_AquaCrop_sc7_weather_reference_ds = xr.load_dataset(filename)

filename = pooch_Majadas.fetch('grid_xr_EO_AquaCrop_sc7_weather_reference.netcdf')
irrigation_districts_grid = xr.load_dataset(filename)
irrigation_districts_grid








scenario_analysis_usingET = ETAnalysis()
decision_ds, event_type = scenario_analysis_usingET.irrigation_delineation(EO_scenario_AquaCrop_sc7_weather_reference_EO_ds)
dates_dt = [pd.to_datetime(date).to_pydatetime() for date in decision_ds.datetime.values]





event_type_node_IN = event_type.mean(['x','y'])
reference_date = pd.Timestamp("2025-01-01")
datetime = pd.to_datetime(reference_date + event_type_node_IN.time)


fig, axs = plt.subplots(2,1,sharex=True,figsize=(7,4))

july.heatmap(datetime, 
             irrigation_districts_grid['irr_daily'].sum(['x','y']), 
             title='Irrigation (mm/h)',
             cmap="github",
             colorbar=True,
             ax=axs[0]
             )
july.heatmap(datetime, 
             irrigation_districts_grid['rain_daily'].sum(['x','y']), 
             title='Rain (mm/h)',
             cmap="golden",
             colorbar=True,
             ax=axs[1]
             )



fig, ax = plt.subplots(figsize=(7,4))

im = july.heatmap(dates_dt, 
              event_type_node_IN.values, 
              title='Irrigation detected',
              # cmap=white_cmap,
              ax=ax,
              linewidth=1, 
              value_label=True,
              )






